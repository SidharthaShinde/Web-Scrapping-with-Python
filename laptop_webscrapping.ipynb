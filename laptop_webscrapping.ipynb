{
  "nbformat": 4,
  "nbformat_minor": 0,
  "metadata": {
    "colab": {
      "name": "laptop_webscrapping.ipynb",
      "provenance": [],
      "collapsed_sections": []
    },
    "kernelspec": {
      "name": "python3",
      "display_name": "Python 3"
    },
    "language_info": {
      "name": "python"
    }
  },
  "cells": [
    {
      "cell_type": "code",
      "execution_count": 1,
      "metadata": {
        "id": "Gq50FtMDoOtj"
      },
      "outputs": [],
      "source": [
        "from bs4 import BeautifulSoup \n",
        "import requests \n",
        "import csv\n",
        "import pandas as pd"
      ]
    },
    {
      "cell_type": "code",
      "source": [
        "descriptions = [] # Create a list to store the descriptions\n",
        "processors = []\n",
        "ram = []\n",
        "os = []\n",
        "storage = []\n",
        "inches = []\n",
        "warranty = []\n",
        "prices = []\n",
        "ratings = []"
      ],
      "metadata": {
        "id": "kguuqU39-Tgx"
      },
      "execution_count": 5,
      "outputs": []
    },
    {
      "cell_type": "markdown",
      "source": [
        "### collecting data from mutiple web pages"
      ],
      "metadata": {
        "id": "Z3FKYdsaF56U"
      }
    },
    {
      "cell_type": "code",
      "source": [
        "pages = list(range(1,38))\n",
        "for page in pages:\n",
        "  webpage=requests.get(\"https://www.flipkart.com/search?q=laptop&otracker=search&otracker1=search&marketplace=FLIPKART&as-show=on&as=off&page={}\".format(page)).text\n",
        "  soup=BeautifulSoup(webpage,'lxml')\n",
        "  desc = soup.find_all('div', class_='_4rR01T')\n",
        "  for i in range(len(desc)):\n",
        "    descriptions.append(desc[i].text)\n",
        "    commonclass = soup.find_all('li',class_ = 'rgWa7D')\n",
        "\n",
        "  for i in range(0,len(commonclass)):\n",
        "      p=commonclass[i].text # Extracting the text from the tags\n",
        "      if(\"Core\" in p): \n",
        "          processors.append(p)\n",
        "          #print(\"core\"+p)\n",
        "      elif(\"RAM\" in p): \n",
        "          ram.append(p)\n",
        "          #print(\"ram\"+p)\n",
        "      elif(\"HDD\" in p or \"SSD\" in p):\n",
        "          storage.append(p)\n",
        "          #print(\"HDD\"+p)\n",
        "      elif(\"Operating\" in p):\n",
        "          os.append(p)\n",
        "          #print(\"os\"+p)\n",
        "      elif(\"Display\" in p):\n",
        "          inches.append(p)\n",
        "          #print(\"display\"+p)\n",
        "      #elif(\"Warranty\" in p):\n",
        "          #warranty.append(p)\n",
        "          #print(\"war\"+p)\n",
        "  \n",
        "  # Extracting price of each laptop from the website    \n",
        "  price = soup.find_all('div',class_='_30jeq3 _1_WHN1')\n",
        "  for i in range(len(price)):\n",
        "    prices.append(price[i].text)\n",
        "  \n",
        "  #Extracting the ratings of each laptop from the website\n",
        "  rating = soup.find_all('div',class_='_3LWZlK') \n",
        "  for i in range(1,24):\n",
        "    ratings.append(rating[i].text)"
      ],
      "metadata": {
        "id": "4d6GPaJNGafY"
      },
      "execution_count": null,
      "outputs": []
    },
    {
      "cell_type": "code",
      "source": [
        "print(len(descriptions))\n",
        "print(len(processors))\n",
        "print(len(ram))\n",
        "print(len(os))\n",
        "print(len(storage))\n",
        "#print(len(warranty))\n",
        "print(len(inches))\n",
        "print(len(prices))\n",
        "print(len(ratings))"
      ],
      "metadata": {
        "id": "sYZjKlGZPopE"
      },
      "execution_count": null,
      "outputs": []
    },
    {
      "cell_type": "markdown",
      "source": [
        "### Finally merging all the features into a single dataframe"
      ],
      "metadata": {
        "id": "u2zaD3o7GF2B"
      }
    },
    {
      "cell_type": "code",
      "source": [
        "df = {'Description':descriptions[851],'Processor':processors[851],'RAM':ram[851],'Operating System':os[slice(851)],'Storage':storage[slice(851)],'Display':inches[slice(851)],'Price':prices[slice(851)]}\n",
        "dataset = pd.DataFrame(data = df) "
      ],
      "metadata": {
        "id": "a77GLdNMQiM9"
      },
      "execution_count": null,
      "outputs": []
    },
    {
      "cell_type": "code",
      "source": [
        "dataset"
      ],
      "metadata": {
        "id": "JybLKfbXQ0Sr"
      },
      "execution_count": null,
      "outputs": []
    },
    {
      "cell_type": "markdown",
      "source": [
        "### converting dataframe into csv file"
      ],
      "metadata": {
        "id": "iwiKAjgaGJvx"
      }
    },
    {
      "cell_type": "code",
      "source": [
        "dataset.to_csv('laptops20.csv')"
      ],
      "metadata": {
        "id": "5SWYQAAYQ03q"
      },
      "execution_count": null,
      "outputs": []
    },
    {
      "cell_type": "code",
      "source": [
        "df = pd.read_csv('laptops20.csv')\n",
        "df.shape"
      ],
      "metadata": {
        "colab": {
          "base_uri": "https://localhost:8080/"
        },
        "id": "4W0ylC1oRROu",
        "outputId": "9e865489-2e4f-46be-a67c-2245ff7917b7"
      },
      "execution_count": null,
      "outputs": [
        {
          "output_type": "execute_result",
          "data": {
            "text/plain": [
              "(851, 8)"
            ]
          },
          "metadata": {},
          "execution_count": 50
        }
      ]
    },
    {
      "cell_type": "code",
      "source": [
        ""
      ],
      "metadata": {
        "id": "EDVGygOaUQrE"
      },
      "execution_count": null,
      "outputs": []
    }
  ]
}